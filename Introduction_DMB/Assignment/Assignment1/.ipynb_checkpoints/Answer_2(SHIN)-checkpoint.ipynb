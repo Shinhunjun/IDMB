{
 "cells": [
  {
   "cell_type": "code",
   "execution_count": 2,
   "id": "132a57de",
   "metadata": {},
   "outputs": [],
   "source": [
    "import numpy as np"
   ]
  },
  {
   "cell_type": "markdown",
   "id": "5aa86500",
   "metadata": {},
   "source": [
    "Answer for Question 2: Write a function that creates an array with shape (n,m) that is all zeros except for the border\n"
   ]
  },
  {
   "cell_type": "code",
   "execution_count": 10,
   "id": "192c8b0a",
   "metadata": {},
   "outputs": [],
   "source": [
    "def array_border(n, m):\n",
    "    arr = np.zeros((n, m), dtype = int)\n",
    "    \n",
    "    arr[0, :] = 1\n",
    "    arr[-1, :] = 1\n",
    "    arr[:, 0] = 1\n",
    "    arr[:, -1] = 1\n",
    "    \n",
    "    return arr"
   ]
  },
  {
   "cell_type": "code",
   "execution_count": 11,
   "id": "7a6b2c00",
   "metadata": {},
   "outputs": [
    {
     "name": "stdout",
     "output_type": "stream",
     "text": [
      "[[1 1 1 1 1]\n",
      " [1 0 0 0 1]\n",
      " [1 0 0 0 1]\n",
      " [1 0 0 0 1]\n",
      " [1 0 0 0 1]\n",
      " [1 1 1 1 1]]\n"
     ]
    }
   ],
   "source": [
    "a = array_border(6, 5)\n",
    "print(a)"
   ]
  }
 ],
 "metadata": {
  "kernelspec": {
   "display_name": "Python 3 (ipykernel)",
   "language": "python",
   "name": "python3"
  },
  "language_info": {
   "codemirror_mode": {
    "name": "ipython",
    "version": 3
   },
   "file_extension": ".py",
   "mimetype": "text/x-python",
   "name": "python",
   "nbconvert_exporter": "python",
   "pygments_lexer": "ipython3",
   "version": "3.11.5"
  }
 },
 "nbformat": 4,
 "nbformat_minor": 5
}
