{
 "cells": [
  {
   "cell_type": "code",
   "execution_count": 1,
   "id": "03688d3a",
   "metadata": {},
   "outputs": [],
   "source": [
    "import numpy as np"
   ]
  },
  {
   "cell_type": "code",
   "execution_count": 34,
   "id": "336f9a8e",
   "metadata": {},
   "outputs": [],
   "source": [
    "a = np.random.randint(1, 101, (10,10))"
   ]
  },
  {
   "cell_type": "code",
   "execution_count": 56,
   "id": "9b9b3b8a",
   "metadata": {},
   "outputs": [
    {
     "data": {
      "text/plain": [
       "array([[ 49,  14,  17,  89,  25,  39,  27,  70,  83,  98],\n",
       "       [ 13,  77,  81,  72,  50,  32,  18,  20,  35,  36],\n",
       "       [ 89,  59,  66,  47,  40,  31,  85,  99,  28,  93],\n",
       "       [ 92,  11,  36,  83,  83,   5,  47,  59,  27,  36],\n",
       "       [ 81,  62,  85,  93,  37,  56,  93,  87,  12,  83],\n",
       "       [ 56,  21,  69,  41,  73,  15,  91,  18,  54,   6],\n",
       "       [ 97,  45,  56,  30,  43,  41,  64,  27,  43,  39],\n",
       "       [ 88,   1,  28,  69,  71,  77,  61,  98,  59,  46],\n",
       "       [ 98,  55,  99,  62,   9, 100,  42,  46,  21,  48],\n",
       "       [ 52,  25,   1,  95,  91,   9,  55,  61,  93,  82]])"
      ]
     },
     "execution_count": 56,
     "metadata": {},
     "output_type": "execute_result"
    }
   ],
   "source": [
    "a"
   ]
  },
  {
   "cell_type": "code",
   "execution_count": 4,
   "id": "f8ee2125",
   "metadata": {},
   "outputs": [
    {
     "data": {
      "text/plain": [
       "99"
      ]
     },
     "execution_count": 4,
     "metadata": {},
     "output_type": "execute_result"
    }
   ],
   "source": [
    "a.max()"
   ]
  },
  {
   "cell_type": "code",
   "execution_count": 5,
   "id": "8334297a",
   "metadata": {},
   "outputs": [
    {
     "data": {
      "text/plain": [
       "1"
      ]
     },
     "execution_count": 5,
     "metadata": {},
     "output_type": "execute_result"
    }
   ],
   "source": [
    "a.min()"
   ]
  },
  {
   "cell_type": "code",
   "execution_count": 6,
   "id": "8dc4ef5c",
   "metadata": {},
   "outputs": [
    {
     "data": {
      "text/plain": [
       "array([44. , 53.7, 66.5, 47.1, 38.7])"
      ]
     },
     "execution_count": 6,
     "metadata": {},
     "output_type": "execute_result"
    }
   ],
   "source": [
    "a[::2].mean(axis=1)"
   ]
  },
  {
   "cell_type": "code",
   "execution_count": 9,
   "id": "fa76c412",
   "metadata": {},
   "outputs": [],
   "source": [
    "result=a[:,1::2].std(axis=0)"
   ]
  },
  {
   "cell_type": "code",
   "execution_count": 10,
   "id": "0efe0796",
   "metadata": {},
   "outputs": [
    {
     "name": "stdout",
     "output_type": "stream",
     "text": [
      "[28.34007763 22.14249308 25.42066089 33.07325203 32.90729402]\n"
     ]
    }
   ],
   "source": [
    "print(result)"
   ]
  },
  {
   "cell_type": "code",
   "execution_count": 17,
   "id": "d38037f9",
   "metadata": {},
   "outputs": [
    {
     "data": {
      "text/plain": [
       "6"
      ]
     },
     "execution_count": 17,
     "metadata": {},
     "output_type": "execute_result"
    }
   ],
   "source": [
    "sum(a[np.where(a<5)])"
   ]
  },
  {
   "cell_type": "code",
   "execution_count": 18,
   "id": "d4d68372",
   "metadata": {},
   "outputs": [
    {
     "data": {
      "text/plain": [
       "(array([0, 8, 9]), array([1, 0, 5]))"
      ]
     },
     "execution_count": 18,
     "metadata": {},
     "output_type": "execute_result"
    }
   ],
   "source": [
    "np.where(a<5)"
   ]
  },
  {
   "cell_type": "code",
   "execution_count": 19,
   "id": "128cd00e",
   "metadata": {},
   "outputs": [
    {
     "data": {
      "text/plain": [
       "array([1, 0, 0, 0, 0, 0, 0, 0, 1, 1])"
      ]
     },
     "execution_count": 19,
     "metadata": {},
     "output_type": "execute_result"
    }
   ],
   "source": [
    "np.count_nonzero(a < 5, axis = 1)"
   ]
  },
  {
   "cell_type": "code",
   "execution_count": 20,
   "id": "8f170e25",
   "metadata": {},
   "outputs": [
    {
     "data": {
      "text/plain": [
       "3"
      ]
     },
     "execution_count": 20,
     "metadata": {},
     "output_type": "execute_result"
    }
   ],
   "source": [
    "sum(np.count_nonzero(a < 5, axis = 1))"
   ]
  },
  {
   "cell_type": "code",
   "execution_count": 35,
   "id": "2067dc45",
   "metadata": {},
   "outputs": [
    {
     "data": {
      "text/plain": [
       "array([3, 0, 1, 2, 1, 1, 2, 2, 1, 2])"
      ]
     },
     "execution_count": 35,
     "metadata": {},
     "output_type": "execute_result"
    }
   ],
   "source": [
    "con = np.count_nonzero(a > 90, axis = 0)\n",
    "con"
   ]
  },
  {
   "cell_type": "code",
   "execution_count": 36,
   "id": "4ab6b1ec",
   "metadata": {},
   "outputs": [],
   "source": [
    "b = np.argwhere(con>0)"
   ]
  },
  {
   "cell_type": "code",
   "execution_count": 46,
   "id": "ad3bfa97",
   "metadata": {},
   "outputs": [],
   "source": [
    "b=b.reshape(1,-1)\n",
    "lst = b.tolist()"
   ]
  },
  {
   "cell_type": "code",
   "execution_count": 47,
   "id": "355dbc99",
   "metadata": {},
   "outputs": [
    {
     "name": "stdout",
     "output_type": "stream",
     "text": [
      "the indexes of the colum is \n",
      " [[0, 2, 3, 4, 5, 6, 7, 8, 9]]\n"
     ]
    }
   ],
   "source": [
    "print(f\"the indexes of the colum is \\n {lst}\")"
   ]
  },
  {
   "cell_type": "code",
   "execution_count": 50,
   "id": "ed0044e8",
   "metadata": {},
   "outputs": [],
   "source": [
    "values, counts = np.unique(a , return_counts= True)"
   ]
  },
  {
   "cell_type": "code",
   "execution_count": 51,
   "id": "e50b34e0",
   "metadata": {},
   "outputs": [
    {
     "data": {
      "text/plain": [
       "array([2, 1, 1, 2, 1, 1, 1, 1, 1, 1])"
      ]
     },
     "execution_count": 51,
     "metadata": {},
     "output_type": "execute_result"
    }
   ],
   "source": [
    "counts[:10]"
   ]
  },
  {
   "cell_type": "code",
   "execution_count": 52,
   "id": "ce342049",
   "metadata": {},
   "outputs": [
    {
     "data": {
      "text/plain": [
       "array([ 1,  5,  6,  9, 11, 12, 13, 14, 15, 17])"
      ]
     },
     "execution_count": 52,
     "metadata": {},
     "output_type": "execute_result"
    }
   ],
   "source": [
    "values[:10]"
   ]
  },
  {
   "cell_type": "code",
   "execution_count": 53,
   "id": "fa63b3fa",
   "metadata": {},
   "outputs": [],
   "source": [
    "cond_1= np.argwhere(counts > 2)"
   ]
  },
  {
   "cell_type": "code",
   "execution_count": 57,
   "id": "c8f83f8f",
   "metadata": {},
   "outputs": [],
   "source": [
    "res = values[cond_1]"
   ]
  },
  {
   "cell_type": "code",
   "execution_count": 58,
   "id": "215a4908",
   "metadata": {},
   "outputs": [
    {
     "data": {
      "text/plain": [
       "array([[14],\n",
       "       [20],\n",
       "       [36],\n",
       "       [37],\n",
       "       [50],\n",
       "       [57],\n",
       "       [60]])"
      ]
     },
     "execution_count": 58,
     "metadata": {},
     "output_type": "execute_result"
    }
   ],
   "source": [
    "cond_1"
   ]
  },
  {
   "cell_type": "code",
   "execution_count": 59,
   "id": "c384228e",
   "metadata": {},
   "outputs": [
    {
     "data": {
      "text/plain": [
       "array([[27],\n",
       "       [36],\n",
       "       [56],\n",
       "       [59],\n",
       "       [83],\n",
       "       [93],\n",
       "       [98]])"
      ]
     },
     "execution_count": 59,
     "metadata": {},
     "output_type": "execute_result"
    }
   ],
   "source": [
    "res"
   ]
  },
  {
   "cell_type": "code",
   "execution_count": 60,
   "id": "7be49585",
   "metadata": {},
   "outputs": [],
   "source": [
    "res=res.reshape(1,-1)"
   ]
  },
  {
   "cell_type": "code",
   "execution_count": 62,
   "id": "e668d10d",
   "metadata": {},
   "outputs": [],
   "source": [
    "res=res.tolist()"
   ]
  },
  {
   "cell_type": "code",
   "execution_count": 63,
   "id": "2c3c5aac",
   "metadata": {},
   "outputs": [
    {
     "data": {
      "text/plain": [
       "[[27, 36, 56, 59, 83, 93, 98]]"
      ]
     },
     "execution_count": 63,
     "metadata": {},
     "output_type": "execute_result"
    }
   ],
   "source": [
    "res"
   ]
  },
  {
   "cell_type": "code",
   "execution_count": 65,
   "id": "18f7e81b",
   "metadata": {},
   "outputs": [
    {
     "name": "stderr",
     "output_type": "stream",
     "text": [
      "/var/folders/5n/z64_841d7zn4lzhk5r1t4m700000gn/T/ipykernel_45854/6537237.py:1: DeprecationWarning: elementwise comparison failed; this will raise an error in the future.\n",
      "  g = np.count_nonzero( a in values[cond_2] , axis =1)\n"
     ]
    },
    {
     "ename": "AxisError",
     "evalue": "axis 1 is out of bounds for array of dimension 0",
     "output_type": "error",
     "traceback": [
      "\u001b[0;31m---------------------------------------------------------------------------\u001b[0m",
      "\u001b[0;31mAxisError\u001b[0m                                 Traceback (most recent call last)",
      "Cell \u001b[0;32mIn[65], line 1\u001b[0m\n\u001b[0;32m----> 1\u001b[0m g \u001b[38;5;241m=\u001b[39m np\u001b[38;5;241m.\u001b[39mcount_nonzero( a \u001b[38;5;129;01min\u001b[39;00m values[cond_2] , axis \u001b[38;5;241m=\u001b[39m\u001b[38;5;241m1\u001b[39m)\n",
      "File \u001b[0;32m<__array_function__ internals>:200\u001b[0m, in \u001b[0;36mcount_nonzero\u001b[0;34m(*args, **kwargs)\u001b[0m\n",
      "File \u001b[0;32m~/anaconda3/lib/python3.11/site-packages/numpy/core/numeric.py:503\u001b[0m, in \u001b[0;36mcount_nonzero\u001b[0;34m(a, axis, keepdims)\u001b[0m\n\u001b[1;32m    500\u001b[0m \u001b[38;5;28;01melse\u001b[39;00m:\n\u001b[1;32m    501\u001b[0m     a_bool \u001b[38;5;241m=\u001b[39m a\u001b[38;5;241m.\u001b[39mastype(np\u001b[38;5;241m.\u001b[39mbool_, copy\u001b[38;5;241m=\u001b[39m\u001b[38;5;28;01mFalse\u001b[39;00m)\n\u001b[0;32m--> 503\u001b[0m \u001b[38;5;28;01mreturn\u001b[39;00m a_bool\u001b[38;5;241m.\u001b[39msum(axis\u001b[38;5;241m=\u001b[39maxis, dtype\u001b[38;5;241m=\u001b[39mnp\u001b[38;5;241m.\u001b[39mintp, keepdims\u001b[38;5;241m=\u001b[39mkeepdims)\n",
      "File \u001b[0;32m~/anaconda3/lib/python3.11/site-packages/numpy/core/_methods.py:49\u001b[0m, in \u001b[0;36m_sum\u001b[0;34m(a, axis, dtype, out, keepdims, initial, where)\u001b[0m\n\u001b[1;32m     47\u001b[0m \u001b[38;5;28;01mdef\u001b[39;00m \u001b[38;5;21m_sum\u001b[39m(a, axis\u001b[38;5;241m=\u001b[39m\u001b[38;5;28;01mNone\u001b[39;00m, dtype\u001b[38;5;241m=\u001b[39m\u001b[38;5;28;01mNone\u001b[39;00m, out\u001b[38;5;241m=\u001b[39m\u001b[38;5;28;01mNone\u001b[39;00m, keepdims\u001b[38;5;241m=\u001b[39m\u001b[38;5;28;01mFalse\u001b[39;00m,\n\u001b[1;32m     48\u001b[0m          initial\u001b[38;5;241m=\u001b[39m_NoValue, where\u001b[38;5;241m=\u001b[39m\u001b[38;5;28;01mTrue\u001b[39;00m):\n\u001b[0;32m---> 49\u001b[0m     \u001b[38;5;28;01mreturn\u001b[39;00m umr_sum(a, axis, dtype, out, keepdims, initial, where)\n",
      "\u001b[0;31mAxisError\u001b[0m: axis 1 is out of bounds for array of dimension 0"
     ]
    }
   ],
   "source": [
    "g = np.count_nonzero( a in values[cond_2] , axis =1)"
   ]
  },
  {
   "cell_type": "code",
   "execution_count": 64,
   "id": "98bfc42d",
   "metadata": {},
   "outputs": [],
   "source": [
    "cond_2 = np.argwhere(counts > 1)"
   ]
  },
  {
   "cell_type": "code",
   "execution_count": 68,
   "id": "3cd9496d",
   "metadata": {},
   "outputs": [],
   "source": [
    "lst=values[cond_2].reshape(1,-1).tolist()"
   ]
  },
  {
   "cell_type": "code",
   "execution_count": 69,
   "id": "3f856df7",
   "metadata": {},
   "outputs": [
    {
     "name": "stderr",
     "output_type": "stream",
     "text": [
      "/var/folders/5n/z64_841d7zn4lzhk5r1t4m700000gn/T/ipykernel_45854/4082896440.py:1: DeprecationWarning: elementwise comparison failed; this will raise an error in the future.\n",
      "  np.count_nonzero(a in lst, axis=1)\n"
     ]
    },
    {
     "ename": "AxisError",
     "evalue": "axis 1 is out of bounds for array of dimension 0",
     "output_type": "error",
     "traceback": [
      "\u001b[0;31m---------------------------------------------------------------------------\u001b[0m",
      "\u001b[0;31mAxisError\u001b[0m                                 Traceback (most recent call last)",
      "Cell \u001b[0;32mIn[69], line 1\u001b[0m\n\u001b[0;32m----> 1\u001b[0m np\u001b[38;5;241m.\u001b[39mcount_nonzero(a \u001b[38;5;129;01min\u001b[39;00m lst, axis\u001b[38;5;241m=\u001b[39m\u001b[38;5;241m1\u001b[39m)\n",
      "File \u001b[0;32m<__array_function__ internals>:200\u001b[0m, in \u001b[0;36mcount_nonzero\u001b[0;34m(*args, **kwargs)\u001b[0m\n",
      "File \u001b[0;32m~/anaconda3/lib/python3.11/site-packages/numpy/core/numeric.py:503\u001b[0m, in \u001b[0;36mcount_nonzero\u001b[0;34m(a, axis, keepdims)\u001b[0m\n\u001b[1;32m    500\u001b[0m \u001b[38;5;28;01melse\u001b[39;00m:\n\u001b[1;32m    501\u001b[0m     a_bool \u001b[38;5;241m=\u001b[39m a\u001b[38;5;241m.\u001b[39mastype(np\u001b[38;5;241m.\u001b[39mbool_, copy\u001b[38;5;241m=\u001b[39m\u001b[38;5;28;01mFalse\u001b[39;00m)\n\u001b[0;32m--> 503\u001b[0m \u001b[38;5;28;01mreturn\u001b[39;00m a_bool\u001b[38;5;241m.\u001b[39msum(axis\u001b[38;5;241m=\u001b[39maxis, dtype\u001b[38;5;241m=\u001b[39mnp\u001b[38;5;241m.\u001b[39mintp, keepdims\u001b[38;5;241m=\u001b[39mkeepdims)\n",
      "File \u001b[0;32m~/anaconda3/lib/python3.11/site-packages/numpy/core/_methods.py:49\u001b[0m, in \u001b[0;36m_sum\u001b[0;34m(a, axis, dtype, out, keepdims, initial, where)\u001b[0m\n\u001b[1;32m     47\u001b[0m \u001b[38;5;28;01mdef\u001b[39;00m \u001b[38;5;21m_sum\u001b[39m(a, axis\u001b[38;5;241m=\u001b[39m\u001b[38;5;28;01mNone\u001b[39;00m, dtype\u001b[38;5;241m=\u001b[39m\u001b[38;5;28;01mNone\u001b[39;00m, out\u001b[38;5;241m=\u001b[39m\u001b[38;5;28;01mNone\u001b[39;00m, keepdims\u001b[38;5;241m=\u001b[39m\u001b[38;5;28;01mFalse\u001b[39;00m,\n\u001b[1;32m     48\u001b[0m          initial\u001b[38;5;241m=\u001b[39m_NoValue, where\u001b[38;5;241m=\u001b[39m\u001b[38;5;28;01mTrue\u001b[39;00m):\n\u001b[0;32m---> 49\u001b[0m     \u001b[38;5;28;01mreturn\u001b[39;00m umr_sum(a, axis, dtype, out, keepdims, initial, where)\n",
      "\u001b[0;31mAxisError\u001b[0m: axis 1 is out of bounds for array of dimension 0"
     ]
    }
   ],
   "source": [
    "np.count_nonzero(a in lst, axis=1)"
   ]
  },
  {
   "cell_type": "code",
   "execution_count": 72,
   "id": "fa97eb47",
   "metadata": {},
   "outputs": [
    {
     "name": "stderr",
     "output_type": "stream",
     "text": [
      "/var/folders/5n/z64_841d7zn4lzhk5r1t4m700000gn/T/ipykernel_45854/709074949.py:1: DeprecationWarning: elementwise comparison failed; this will raise an error in the future.\n",
      "  np.any(a in lst, axis =1)\n"
     ]
    },
    {
     "ename": "AxisError",
     "evalue": "axis 1 is out of bounds for array of dimension 0",
     "output_type": "error",
     "traceback": [
      "\u001b[0;31m---------------------------------------------------------------------------\u001b[0m",
      "\u001b[0;31mAxisError\u001b[0m                                 Traceback (most recent call last)",
      "Cell \u001b[0;32mIn[72], line 1\u001b[0m\n\u001b[0;32m----> 1\u001b[0m np\u001b[38;5;241m.\u001b[39many(a \u001b[38;5;129;01min\u001b[39;00m lst, axis \u001b[38;5;241m=\u001b[39m\u001b[38;5;241m1\u001b[39m)\n",
      "File \u001b[0;32m<__array_function__ internals>:200\u001b[0m, in \u001b[0;36many\u001b[0;34m(*args, **kwargs)\u001b[0m\n",
      "File \u001b[0;32m~/anaconda3/lib/python3.11/site-packages/numpy/core/fromnumeric.py:2423\u001b[0m, in \u001b[0;36many\u001b[0;34m(a, axis, out, keepdims, where)\u001b[0m\n\u001b[1;32m   2333\u001b[0m \u001b[38;5;129m@array_function_dispatch\u001b[39m(_any_dispatcher)\n\u001b[1;32m   2334\u001b[0m \u001b[38;5;28;01mdef\u001b[39;00m \u001b[38;5;21many\u001b[39m(a, axis\u001b[38;5;241m=\u001b[39m\u001b[38;5;28;01mNone\u001b[39;00m, out\u001b[38;5;241m=\u001b[39m\u001b[38;5;28;01mNone\u001b[39;00m, keepdims\u001b[38;5;241m=\u001b[39mnp\u001b[38;5;241m.\u001b[39m_NoValue, \u001b[38;5;241m*\u001b[39m, where\u001b[38;5;241m=\u001b[39mnp\u001b[38;5;241m.\u001b[39m_NoValue):\n\u001b[1;32m   2335\u001b[0m \u001b[38;5;250m    \u001b[39m\u001b[38;5;124;03m\"\"\"\u001b[39;00m\n\u001b[1;32m   2336\u001b[0m \u001b[38;5;124;03m    Test whether any array element along a given axis evaluates to True.\u001b[39;00m\n\u001b[1;32m   2337\u001b[0m \n\u001b[0;32m   (...)\u001b[0m\n\u001b[1;32m   2421\u001b[0m \n\u001b[1;32m   2422\u001b[0m \u001b[38;5;124;03m    \"\"\"\u001b[39;00m\n\u001b[0;32m-> 2423\u001b[0m     \u001b[38;5;28;01mreturn\u001b[39;00m _wrapreduction(a, np\u001b[38;5;241m.\u001b[39mlogical_or, \u001b[38;5;124m'\u001b[39m\u001b[38;5;124many\u001b[39m\u001b[38;5;124m'\u001b[39m, axis, \u001b[38;5;28;01mNone\u001b[39;00m, out,\n\u001b[1;32m   2424\u001b[0m                           keepdims\u001b[38;5;241m=\u001b[39mkeepdims, where\u001b[38;5;241m=\u001b[39mwhere)\n",
      "File \u001b[0;32m~/anaconda3/lib/python3.11/site-packages/numpy/core/fromnumeric.py:86\u001b[0m, in \u001b[0;36m_wrapreduction\u001b[0;34m(obj, ufunc, method, axis, dtype, out, **kwargs)\u001b[0m\n\u001b[1;32m     83\u001b[0m         \u001b[38;5;28;01melse\u001b[39;00m:\n\u001b[1;32m     84\u001b[0m             \u001b[38;5;28;01mreturn\u001b[39;00m reduction(axis\u001b[38;5;241m=\u001b[39maxis, out\u001b[38;5;241m=\u001b[39mout, \u001b[38;5;241m*\u001b[39m\u001b[38;5;241m*\u001b[39mpasskwargs)\n\u001b[0;32m---> 86\u001b[0m \u001b[38;5;28;01mreturn\u001b[39;00m ufunc\u001b[38;5;241m.\u001b[39mreduce(obj, axis, dtype, out, \u001b[38;5;241m*\u001b[39m\u001b[38;5;241m*\u001b[39mpasskwargs)\n",
      "\u001b[0;31mAxisError\u001b[0m: axis 1 is out of bounds for array of dimension 0"
     ]
    }
   ],
   "source": [
    "np.any(a in lst, axis =1)"
   ]
  },
  {
   "cell_type": "code",
   "execution_count": 82,
   "id": "4c9d6786",
   "metadata": {},
   "outputs": [
    {
     "data": {
      "text/plain": [
       "array([[ 49,  14,  17,  89,  25,  39,  27,  70,  83,  98],\n",
       "       [ 13,  77,  81,  72,  50,  32,  18,  20,  35,  36],\n",
       "       [ 89,  59,  66,  47,  40,  31,  85,  99,  28,  93],\n",
       "       [ 92,  11,  36,  83,  83,   5,  47,  59,  27,  36],\n",
       "       [ 81,  62,  85,  93,  37,  56,  93,  87,  12,  83],\n",
       "       [ 56,  21,  69,  41,  73,  15,  91,  18,  54,   6],\n",
       "       [ 97,  45,  56,  30,  43,  41,  64,  27,  43,  39],\n",
       "       [ 88,   1,  28,  69,  71,  77,  61,  98,  59,  46],\n",
       "       [ 98,  55,  99,  62,   9, 100,  42,  46,  21,  48],\n",
       "       [ 52,  25,   1,  95,  91,   9,  55,  61,  93,  82]])"
      ]
     },
     "execution_count": 82,
     "metadata": {},
     "output_type": "execute_result"
    }
   ],
   "source": [
    "a"
   ]
  },
  {
   "cell_type": "code",
   "execution_count": 84,
   "id": "2fcad669",
   "metadata": {},
   "outputs": [],
   "source": [
    "def duplicate(row):\n",
    "    _, counts =np.unique(row, return_counts = True)\n",
    "\n",
    "    \n",
    "    return np.any(counts > 1)"
   ]
  },
  {
   "cell_type": "code",
   "execution_count": 85,
   "id": "b6c49bf0",
   "metadata": {},
   "outputs": [
    {
     "data": {
      "text/plain": [
       "array([False, False, False,  True,  True, False,  True, False, False,\n",
       "       False])"
      ]
     },
     "execution_count": 85,
     "metadata": {},
     "output_type": "execute_result"
    }
   ],
   "source": [
    "np.apply_along_axis(duplicate, axis = 1, arr = a)"
   ]
  },
  {
   "cell_type": "code",
   "execution_count": 77,
   "id": "aaf8257e",
   "metadata": {},
   "outputs": [],
   "source": [
    "cond = np.where(counts>1)"
   ]
  },
  {
   "cell_type": "code",
   "execution_count": 78,
   "id": "16c081cf",
   "metadata": {},
   "outputs": [
    {
     "data": {
      "text/plain": [
       "(array([ 0,  3, 10, 12, 13, 14, 15, 20, 22, 24, 26, 28, 29, 35, 36, 37, 38,\n",
       "        39, 42, 47, 48, 50, 51, 54, 55, 57, 60, 61]),)"
      ]
     },
     "execution_count": 78,
     "metadata": {},
     "output_type": "execute_result"
    }
   ],
   "source": [
    "cond"
   ]
  },
  {
   "cell_type": "code",
   "execution_count": 89,
   "id": "43666a5c",
   "metadata": {},
   "outputs": [
    {
     "data": {
      "text/plain": [
       "array([[1., 1., 1.],\n",
       "       [1., 1., 1.],\n",
       "       [1., 1., 1.]])"
      ]
     },
     "execution_count": 89,
     "metadata": {},
     "output_type": "execute_result"
    }
   ],
   "source": [
    "np.ones((3,3))"
   ]
  },
  {
   "cell_type": "code",
   "execution_count": 93,
   "id": "afd245ab",
   "metadata": {},
   "outputs": [],
   "source": [
    "def border(n, m):\n",
    "    \n",
    "    arr = np.zeros((n,m))\n",
    "    \n",
    "    arr[:,-1] = 1\n",
    "    arr[:,0] = 1\n",
    "    arr[-1, :] = 1\n",
    "    arr[0,:] = 1\n",
    "    \n",
    "    return arr\n",
    "    "
   ]
  },
  {
   "cell_type": "code",
   "execution_count": 94,
   "id": "8f9b4645",
   "metadata": {},
   "outputs": [
    {
     "data": {
      "text/plain": [
       "array([[1., 1., 1., 1., 1.],\n",
       "       [1., 0., 0., 0., 1.],\n",
       "       [1., 0., 0., 0., 1.],\n",
       "       [1., 1., 1., 1., 1.]])"
      ]
     },
     "execution_count": 94,
     "metadata": {},
     "output_type": "execute_result"
    }
   ],
   "source": [
    "border(4,5)"
   ]
  },
  {
   "cell_type": "code",
   "execution_count": 95,
   "id": "9ab47587",
   "metadata": {},
   "outputs": [],
   "source": [
    "def closes(a, v):\n",
    "    \n",
    "    diff = np.abs(a-v)\n",
    "    minimum = min(np.abs(a-v))\n",
    "    \n",
    "    res = np.argwhere(diff == minimum)\n",
    "    return res"
   ]
  },
  {
   "cell_type": "code",
   "execution_count": 101,
   "id": "bd29519f",
   "metadata": {},
   "outputs": [],
   "source": [
    "a = np.array([10, 3, 7, 8, 15])"
   ]
  },
  {
   "cell_type": "code",
   "execution_count": 102,
   "id": "cc341772",
   "metadata": {},
   "outputs": [
    {
     "data": {
      "text/plain": [
       "array([[1]])"
      ]
     },
     "execution_count": 102,
     "metadata": {},
     "output_type": "execute_result"
    }
   ],
   "source": [
    "closes(a, 4)"
   ]
  },
  {
   "cell_type": "code",
   "execution_count": 103,
   "id": "b99b64fb",
   "metadata": {},
   "outputs": [
    {
     "data": {
      "text/plain": [
       "array([[3]])"
      ]
     },
     "execution_count": 103,
     "metadata": {},
     "output_type": "execute_result"
    }
   ],
   "source": [
    "a[closes(a,4)]"
   ]
  },
  {
   "cell_type": "code",
   "execution_count": 116,
   "id": "bc0fb6ab",
   "metadata": {},
   "outputs": [],
   "source": [
    "a = np.array([5, 8, 3, 1 ,10, 9, 12])"
   ]
  },
  {
   "cell_type": "code",
   "execution_count": 117,
   "id": "e97ab337",
   "metadata": {},
   "outputs": [],
   "source": [
    "diff = np.diff(a)"
   ]
  },
  {
   "cell_type": "code",
   "execution_count": 118,
   "id": "b70a8171",
   "metadata": {},
   "outputs": [
    {
     "data": {
      "text/plain": [
       "array([ 3, -5, -2,  9, -1,  3])"
      ]
     },
     "execution_count": 118,
     "metadata": {},
     "output_type": "execute_result"
    }
   ],
   "source": [
    "diff"
   ]
  },
  {
   "cell_type": "code",
   "execution_count": 119,
   "id": "7de75fc6",
   "metadata": {},
   "outputs": [],
   "source": [
    "diff =np.sign(diff)"
   ]
  },
  {
   "cell_type": "code",
   "execution_count": 120,
   "id": "c69516b7",
   "metadata": {},
   "outputs": [
    {
     "data": {
      "text/plain": [
       "array([ 1, -1, -1,  1, -1,  1])"
      ]
     },
     "execution_count": 120,
     "metadata": {},
     "output_type": "execute_result"
    }
   ],
   "source": [
    "diff"
   ]
  },
  {
   "cell_type": "code",
   "execution_count": 121,
   "id": "8a5e73cf",
   "metadata": {},
   "outputs": [],
   "source": [
    "diff_diff = np.diff(diff)"
   ]
  },
  {
   "cell_type": "code",
   "execution_count": 122,
   "id": "2e3c0962",
   "metadata": {},
   "outputs": [
    {
     "data": {
      "text/plain": [
       "array([-2,  0,  2, -2,  2])"
      ]
     },
     "execution_count": 122,
     "metadata": {},
     "output_type": "execute_result"
    }
   ],
   "source": [
    "diff_diff"
   ]
  },
  {
   "cell_type": "code",
   "execution_count": 123,
   "id": "05532d7b",
   "metadata": {},
   "outputs": [],
   "source": [
    "cond = np.argwhere(diff_diff<0)"
   ]
  },
  {
   "cell_type": "code",
   "execution_count": 124,
   "id": "0657f024",
   "metadata": {},
   "outputs": [
    {
     "data": {
      "text/plain": [
       "array([[3, 8]])"
      ]
     },
     "execution_count": 124,
     "metadata": {},
     "output_type": "execute_result"
    }
   ],
   "source": [
    "a[np.argwhere(cond)+1]"
   ]
  },
  {
   "cell_type": "code",
   "execution_count": 126,
   "id": "4322ea5a",
   "metadata": {},
   "outputs": [
    {
     "data": {
      "text/plain": [
       "array([[1, 2, 3, 4],\n",
       "       [2, 4, 6, 8],\n",
       "       [1, 3, 5, 7]])"
      ]
     },
     "execution_count": 126,
     "metadata": {},
     "output_type": "execute_result"
    }
   ],
   "source": [
    "a = np.array([[1, 2, 3, 4], [2, 4, 6, 8], [1, 3, 5, 7]])\n",
    "a"
   ]
  },
  {
   "cell_type": "code",
   "execution_count": 132,
   "id": "fe35043d",
   "metadata": {},
   "outputs": [],
   "source": [
    "def normalize (matrix):\n",
    "\n",
    "    return np.apply_along_axis(lambda row: row/np.sum(row), axis =1, arr = matrix)"
   ]
  },
  {
   "cell_type": "code",
   "execution_count": 133,
   "id": "845ee48e",
   "metadata": {},
   "outputs": [
    {
     "data": {
      "text/plain": [
       "array([[0.1   , 0.2   , 0.3   , 0.4   ],\n",
       "       [0.1   , 0.2   , 0.3   , 0.4   ],\n",
       "       [0.0625, 0.1875, 0.3125, 0.4375]])"
      ]
     },
     "execution_count": 133,
     "metadata": {},
     "output_type": "execute_result"
    }
   ],
   "source": [
    "normalize(a)"
   ]
  },
  {
   "cell_type": "code",
   "execution_count": 207,
   "id": "2d2cef5a",
   "metadata": {},
   "outputs": [],
   "source": [
    "def magic_square(matrix):\n",
    "    \n",
    "    if len(matrix[0]) != len(matrix[:,0]):\n",
    "        return False\n",
    "    \n",
    "    magic_sum = np.sum(matrix[0])\n",
    "    \n",
    "    if np.all(np.apply_along_axis(lambda row: np.sum(row),1,matrix)== magic_sum) and np.all(np.apply_along_axis(lambda row: np.sum(row),0,matrix)==magic_sum) and sum(np.diag(matrix))==magic_sum and sum(np.diag(np.fliplr(matrix))) == magic_sum:\n",
    "        return True\n",
    "    else: False\n",
    "        "
   ]
  },
  {
   "cell_type": "code",
   "execution_count": 208,
   "id": "eb5742f6",
   "metadata": {},
   "outputs": [
    {
     "data": {
      "text/plain": [
       "array([10, 20, 16])"
      ]
     },
     "execution_count": 208,
     "metadata": {},
     "output_type": "execute_result"
    }
   ],
   "source": [
    "np.apply_along_axis(lambda row: np.sum(row),1,a) "
   ]
  },
  {
   "cell_type": "code",
   "execution_count": 209,
   "id": "b6a0ee85",
   "metadata": {},
   "outputs": [
    {
     "data": {
      "text/plain": [
       "10"
      ]
     },
     "execution_count": 209,
     "metadata": {},
     "output_type": "execute_result"
    }
   ],
   "source": [
    "sum(np.diag(a))"
   ]
  },
  {
   "cell_type": "code",
   "execution_count": 210,
   "id": "a54676bc",
   "metadata": {},
   "outputs": [
    {
     "data": {
      "text/plain": [
       "13"
      ]
     },
     "execution_count": 210,
     "metadata": {},
     "output_type": "execute_result"
    }
   ],
   "source": [
    "sum(np.diag(np.fliplr(a)))"
   ]
  },
  {
   "cell_type": "code",
   "execution_count": 211,
   "id": "ea90959a",
   "metadata": {},
   "outputs": [
    {
     "data": {
      "text/plain": [
       "False"
      ]
     },
     "execution_count": 211,
     "metadata": {},
     "output_type": "execute_result"
    }
   ],
   "source": [
    "magic_square(a)"
   ]
  },
  {
   "cell_type": "code",
   "execution_count": 212,
   "id": "fd48c9ff",
   "metadata": {},
   "outputs": [],
   "source": [
    "magic = np.array([[8, 1, 6],\n",
    "                [3, 5, 7],\n",
    "                [4, 9, 2]])"
   ]
  },
  {
   "cell_type": "code",
   "execution_count": 213,
   "id": "35e009c4",
   "metadata": {},
   "outputs": [
    {
     "data": {
      "text/plain": [
       "True"
      ]
     },
     "execution_count": 213,
     "metadata": {},
     "output_type": "execute_result"
    }
   ],
   "source": [
    "magic_square(magic)"
   ]
  },
  {
   "cell_type": "markdown",
   "id": "0047d47f",
   "metadata": {},
   "source": [
    "Assginment 7"
   ]
  },
  {
   "cell_type": "code",
   "execution_count": 214,
   "id": "cc8850af",
   "metadata": {},
   "outputs": [],
   "source": [
    "A = np.array([[4,2,1], [3,1,5], [2,1,3]])\n",
    "b = np.array([10,6,7]).reshape(-1,1)"
   ]
  },
  {
   "cell_type": "code",
   "execution_count": 215,
   "id": "f899b010",
   "metadata": {},
   "outputs": [
    {
     "data": {
      "text/plain": [
       "array([[4, 2, 1],\n",
       "       [3, 1, 5],\n",
       "       [2, 1, 3]])"
      ]
     },
     "execution_count": 215,
     "metadata": {},
     "output_type": "execute_result"
    }
   ],
   "source": [
    "A"
   ]
  },
  {
   "cell_type": "code",
   "execution_count": 216,
   "id": "1589136c",
   "metadata": {},
   "outputs": [
    {
     "data": {
      "text/plain": [
       "array([[10],\n",
       "       [ 6],\n",
       "       [ 7]])"
      ]
     },
     "execution_count": 216,
     "metadata": {},
     "output_type": "execute_result"
    }
   ],
   "source": [
    "b"
   ]
  },
  {
   "cell_type": "code",
   "execution_count": 217,
   "id": "f270db33",
   "metadata": {},
   "outputs": [
    {
     "data": {
      "text/plain": [
       "-5.000000000000001"
      ]
     },
     "execution_count": 217,
     "metadata": {},
     "output_type": "execute_result"
    }
   ],
   "source": [
    "np.linalg.det(A)"
   ]
  },
  {
   "cell_type": "code",
   "execution_count": 220,
   "id": "33e9cb64",
   "metadata": {},
   "outputs": [],
   "source": [
    "A_inv=np.linalg.inv(A)"
   ]
  },
  {
   "cell_type": "code",
   "execution_count": 221,
   "id": "f0673506",
   "metadata": {},
   "outputs": [
    {
     "data": {
      "text/plain": [
       "array([[ 0.4,  1. , -1.8],\n",
       "       [-0.2, -2. ,  3.4],\n",
       "       [-0.2,  0. ,  0.4]])"
      ]
     },
     "execution_count": 221,
     "metadata": {},
     "output_type": "execute_result"
    }
   ],
   "source": [
    "A_inv"
   ]
  },
  {
   "cell_type": "code",
   "execution_count": 222,
   "id": "8cca7d64",
   "metadata": {},
   "outputs": [],
   "source": [
    "x =A_inv@b"
   ]
  },
  {
   "cell_type": "code",
   "execution_count": 223,
   "id": "1dd015fc",
   "metadata": {},
   "outputs": [
    {
     "data": {
      "text/plain": [
       "array([[-2.6],\n",
       "       [ 9.8],\n",
       "       [ 0.8]])"
      ]
     },
     "execution_count": 223,
     "metadata": {},
     "output_type": "execute_result"
    }
   ],
   "source": [
    "x"
   ]
  },
  {
   "cell_type": "code",
   "execution_count": 230,
   "id": "f38ff8f3",
   "metadata": {},
   "outputs": [],
   "source": [
    "ssibal, fighting = np.linalg.eig(A)"
   ]
  },
  {
   "cell_type": "code",
   "execution_count": 231,
   "id": "da471652",
   "metadata": {},
   "outputs": [
    {
     "data": {
      "text/plain": [
       "array([ 7.04804585,  1.44343285, -0.4914787 ])"
      ]
     },
     "execution_count": 231,
     "metadata": {},
     "output_type": "execute_result"
    }
   ],
   "source": [
    "ssibal"
   ]
  },
  {
   "cell_type": "code",
   "execution_count": 232,
   "id": "11e39626",
   "metadata": {},
   "outputs": [
    {
     "data": {
      "text/plain": [
       "array([[ 0.58800699,  0.65315053,  0.40044041],\n",
       "       [ 0.66832949, -0.61183564, -0.91573217],\n",
       "       [ 0.45561329, -0.44615192,  0.03289476]])"
      ]
     },
     "execution_count": 232,
     "metadata": {},
     "output_type": "execute_result"
    }
   ],
   "source": [
    "fighting"
   ]
  },
  {
   "cell_type": "code",
   "execution_count": 234,
   "id": "0199b5f8",
   "metadata": {},
   "outputs": [
    {
     "data": {
      "text/plain": [
       "array([[False, False, False],\n",
       "       [False, False, False],\n",
       "       [False, False, False]])"
      ]
     },
     "execution_count": 234,
     "metadata": {},
     "output_type": "execute_result"
    }
   ],
   "source": [
    "A @ fighting == ssibal @ fighting"
   ]
  },
  {
   "cell_type": "code",
   "execution_count": null,
   "id": "6bed1ff8",
   "metadata": {},
   "outputs": [],
   "source": []
  }
 ],
 "metadata": {
  "kernelspec": {
   "display_name": "Python 3 (ipykernel)",
   "language": "python",
   "name": "python3"
  },
  "language_info": {
   "codemirror_mode": {
    "name": "ipython",
    "version": 3
   },
   "file_extension": ".py",
   "mimetype": "text/x-python",
   "name": "python",
   "nbconvert_exporter": "python",
   "pygments_lexer": "ipython3",
   "version": "3.11.5"
  }
 },
 "nbformat": 4,
 "nbformat_minor": 5
}
