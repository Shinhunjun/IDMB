{
 "cells": [
  {
   "cell_type": "markdown",
   "id": "034972d9",
   "metadata": {},
   "source": [
    "## Answer for question 1(a-g)"
   ]
  },
  {
   "cell_type": "code",
   "execution_count": 1,
   "id": "319777a8",
   "metadata": {},
   "outputs": [],
   "source": [
    "import numpy as np"
   ]
  },
  {
   "cell_type": "code",
   "execution_count": 2,
   "id": "9d38f454",
   "metadata": {},
   "outputs": [],
   "source": [
    "q1 = np.random.randint(1,101,100).reshape(10,-1)"
   ]
  },
  {
   "cell_type": "code",
   "execution_count": 3,
   "id": "f98998d2",
   "metadata": {
    "scrolled": false
   },
   "outputs": [
    {
     "name": "stdout",
     "output_type": "stream",
     "text": [
      "[[ 78  94  23  68  99  76  11  48  77  98]\n",
      " [ 18   8  74  54   3  21  59  85  46  49]\n",
      " [ 64  49  11  25  75  52   6  94  80  64]\n",
      " [ 96  28  89  25  58  12  57  99  16  19]\n",
      " [ 85  20  30  30  72  33  98  41  73  40]\n",
      " [  5  95  91  85  30  85  43   9  28  71]\n",
      " [ 33  22  55  51  19   4  39  77  61   4]\n",
      " [ 89  94  18  60  43  75  56  52  84  65]\n",
      " [ 80  16  17  25  27 100  73  63  95  38]\n",
      " [ 59  37  13  52  47  73  32  31  66  76]]\n"
     ]
    }
   ],
   "source": [
    "print(q1)"
   ]
  },
  {
   "cell_type": "markdown",
   "id": "f2487932",
   "metadata": {},
   "source": [
    "Answer 1_(a)"
   ]
  },
  {
   "cell_type": "code",
   "execution_count": 6,
   "id": "14c776b7",
   "metadata": {
    "scrolled": true
   },
   "outputs": [
    {
     "name": "stdout",
     "output_type": "stream",
     "text": [
      "Answer for Question 1_a :\n",
      "The minimum value: 1\n",
      "The maximum value: 100\n"
     ]
    }
   ],
   "source": [
    "#Answer for Quiz1_a: The minimum and maximum values in the array\n",
    "minimum = q1.min()\n",
    "maximum = q1.max()\n",
    "print(f\"Answer for Question 1_a :\")\n",
    "print(f\"The minimum value: {minimum}\")\n",
    "print(f\"The maximum value: {maximum}\")"
   ]
  },
  {
   "cell_type": "markdown",
   "id": "b4cd36ef",
   "metadata": {},
   "source": [
    "Answer 1_(b)"
   ]
  },
  {
   "cell_type": "code",
   "execution_count": 7,
   "id": "dd3de8b4",
   "metadata": {},
   "outputs": [
    {
     "name": "stdout",
     "output_type": "stream",
     "text": [
      "Answer for Question 1_b : [42.3 43.1 46.9 49.1 50.3]\n"
     ]
    }
   ],
   "source": [
    "#Answer for Quiz1_b: The average of every even row(row 0, 2 ,...8)\n",
    "answer_b = q1[::2].mean(axis=1)\n",
    "print(f\"Answer for Question 1_b : {answer_b}\")"
   ]
  },
  {
   "cell_type": "markdown",
   "id": "7ed32432",
   "metadata": {},
   "source": [
    "Answer 1_(c)"
   ]
  },
  {
   "cell_type": "code",
   "execution_count": 8,
   "id": "a954158c",
   "metadata": {},
   "outputs": [
    {
     "name": "stdout",
     "output_type": "stream",
     "text": [
      "Answer for Question 1_c : [26.8931218  26.80223871 30.94123462 22.84381754 27.67598237]\n"
     ]
    }
   ],
   "source": [
    "#Answer for Quiz1_c: The standard of deviation in every odd columnn\n",
    "answer_c = q1[:,1::2].std(axis=0)\n",
    "print(f\"Answer for Question 1_c : {answer_c}\")"
   ]
  },
  {
   "cell_type": "markdown",
   "id": "976f28f2",
   "metadata": {},
   "source": [
    "Answer 1_(d)"
   ]
  },
  {
   "cell_type": "code",
   "execution_count": 9,
   "id": "dcd45ba4",
   "metadata": {
    "scrolled": true
   },
   "outputs": [
    {
     "name": "stdout",
     "output_type": "stream",
     "text": [
      "Answer for Question 1_d : 7\n"
     ]
    }
   ],
   "source": [
    "#Answer for Quiz1_d: How many rows contain a number less than 5?\n",
    "row_less5 = np.any(q1<5, axis=1)\n",
    "answer_d = sum(row_less5)\n",
    "print(f\"Answer for Question 1_d : {answer_d}\")"
   ]
  },
  {
   "cell_type": "markdown",
   "id": "f4ee2b59",
   "metadata": {},
   "source": [
    "Answer 1_(e)"
   ]
  },
  {
   "cell_type": "code",
   "execution_count": 10,
   "id": "85b99340",
   "metadata": {},
   "outputs": [
    {
     "name": "stdout",
     "output_type": "stream",
     "text": [
      "Answer for Question 1_e : [1 2 5]\n"
     ]
    }
   ],
   "source": [
    "#Answer for Quiz_e: Which column contain a number greater than 90? (print the index of the column)\n",
    "colum_90 = np.any(q1 > 90, axis = 0)\n",
    "index_90 = np.where(colum_90)[0]\n",
    "print(f\"Answer for Question 1_e : {index_90}\")"
   ]
  },
  {
   "cell_type": "markdown",
   "id": "3846d575",
   "metadata": {},
   "source": [
    "Answer 1_(f)"
   ]
  },
  {
   "cell_type": "code",
   "execution_count": 11,
   "id": "6052cb36",
   "metadata": {},
   "outputs": [
    {
     "name": "stdout",
     "output_type": "stream",
     "text": [
      "Answer for Question 1_f : [ 2  4  8 43 46 47 48 71 72 75 84 86]\n"
     ]
    }
   ],
   "source": [
    "#Answer for Quiz_f: which numbers appear in the matrix more than twice?\n",
    "values, counts = np.unique(q1, return_counts = True)\n",
    "num_2 = values[counts > 2]\n",
    "\n",
    "if len(num_2)>0:\n",
    "    print(f\"Answer for Question 1_f : {num_2}\")\n",
    "else:\n",
    "    print(f\"Answer for Question 1_f : None\")\n"
   ]
  },
  {
   "cell_type": "markdown",
   "id": "5395c55a",
   "metadata": {},
   "source": [
    "Answer 1_(g)"
   ]
  },
  {
   "cell_type": "code",
   "execution_count": 5,
   "id": "734af584",
   "metadata": {},
   "outputs": [
    {
     "name": "stdout",
     "output_type": "stream",
     "text": [
      "Answer for Question 1_g: 4\n"
     ]
    }
   ],
   "source": [
    "#Answer for Quiz_g: How many row contains duplicate value?\n",
    "row_duplicate = np.sum(np.apply_along_axis(lambda x :len(np.unique(x))!= len(x), axis = 1, arr = q1 ))\n",
    "\n",
    "print(f\"Answer for Question 1_g: {row_duplicate}\")"
   ]
  },
  {
   "cell_type": "code",
   "execution_count": null,
   "id": "7a5019ae",
   "metadata": {},
   "outputs": [],
   "source": []
  }
 ],
 "metadata": {
  "kernelspec": {
   "display_name": "Python 3 (ipykernel)",
   "language": "python",
   "name": "python3"
  },
  "language_info": {
   "codemirror_mode": {
    "name": "ipython",
    "version": 3
   },
   "file_extension": ".py",
   "mimetype": "text/x-python",
   "name": "python",
   "nbconvert_exporter": "python",
   "pygments_lexer": "ipython3",
   "version": "3.11.5"
  }
 },
 "nbformat": 4,
 "nbformat_minor": 5
}
