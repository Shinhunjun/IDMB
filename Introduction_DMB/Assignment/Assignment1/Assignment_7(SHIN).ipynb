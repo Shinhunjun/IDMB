{
 "cells": [
  {
   "cell_type": "code",
   "execution_count": 1,
   "id": "ad20e8f5",
   "metadata": {},
   "outputs": [],
   "source": [
    "import numpy as np"
   ]
  },
  {
   "cell_type": "code",
   "execution_count": 2,
   "id": "40a2475b",
   "metadata": {},
   "outputs": [],
   "source": [
    "A = np.array([[4,2,1], [3,1,5], [2,1,3]])\n",
    "b = np.array([10,6,7]).reshape(-1,1)"
   ]
  },
  {
   "cell_type": "code",
   "execution_count": 5,
   "id": "7bccc700",
   "metadata": {},
   "outputs": [
    {
     "data": {
      "text/plain": [
       "array([[4, 2, 1],\n",
       "       [3, 1, 5],\n",
       "       [2, 1, 3]])"
      ]
     },
     "execution_count": 5,
     "metadata": {},
     "output_type": "execute_result"
    }
   ],
   "source": [
    "A"
   ]
  },
  {
   "cell_type": "code",
   "execution_count": 6,
   "id": "8ccf09f4",
   "metadata": {},
   "outputs": [
    {
     "data": {
      "text/plain": [
       "array([[10],\n",
       "       [ 6],\n",
       "       [ 7]])"
      ]
     },
     "execution_count": 6,
     "metadata": {},
     "output_type": "execute_result"
    }
   ],
   "source": [
    "b"
   ]
  },
  {
   "cell_type": "markdown",
   "id": "d153662d",
   "metadata": {},
   "source": [
    "The answer for Question 7_a"
   ]
  },
  {
   "cell_type": "code",
   "execution_count": 7,
   "id": "8ca90249",
   "metadata": {},
   "outputs": [],
   "source": [
    "answer_a = np.linalg.det(A)"
   ]
  },
  {
   "cell_type": "code",
   "execution_count": 8,
   "id": "903c832f",
   "metadata": {},
   "outputs": [
    {
     "data": {
      "text/plain": [
       "-5.000000000000001"
      ]
     },
     "execution_count": 8,
     "metadata": {},
     "output_type": "execute_result"
    }
   ],
   "source": [
    "answer_a"
   ]
  },
  {
   "cell_type": "code",
   "execution_count": 11,
   "id": "b535d36d",
   "metadata": {},
   "outputs": [
    {
     "name": "stdout",
     "output_type": "stream",
     "text": [
      "The answer for Question 7_a is :-5.000000000000001\n"
     ]
    }
   ],
   "source": [
    "print(f\"The answer for Question 7_a is :{answer_a}\")"
   ]
  },
  {
   "cell_type": "markdown",
   "id": "c1d28742",
   "metadata": {},
   "source": [
    "The answer for Question 7_b"
   ]
  },
  {
   "cell_type": "code",
   "execution_count": 12,
   "id": "424d2359",
   "metadata": {},
   "outputs": [],
   "source": [
    "answer_b = np.linalg.inv(A)"
   ]
  },
  {
   "cell_type": "code",
   "execution_count": 13,
   "id": "58b715a3",
   "metadata": {},
   "outputs": [
    {
     "data": {
      "text/plain": [
       "array([[ 0.4,  1. , -1.8],\n",
       "       [-0.2, -2. ,  3.4],\n",
       "       [-0.2,  0. ,  0.4]])"
      ]
     },
     "execution_count": 13,
     "metadata": {},
     "output_type": "execute_result"
    }
   ],
   "source": [
    "answer_b"
   ]
  },
  {
   "cell_type": "code",
   "execution_count": 31,
   "id": "5ee95dc5",
   "metadata": {},
   "outputs": [],
   "source": [
    "def M_inverse(arr):\n",
    "    print(\"The answer for Question 7_b is:\")\n",
    "    try: \n",
    "        inv = np.linalg.inv(arr)\n",
    "        print(f\"There is invertible. \\nAnd it is \\n{np.linalg.inv(arr)}\")\n",
    "    except np.linalg.LinAlgError:\n",
    "        print(\"There is no invertible\")"
   ]
  },
  {
   "cell_type": "code",
   "execution_count": 33,
   "id": "0af27dfe",
   "metadata": {},
   "outputs": [
    {
     "name": "stdout",
     "output_type": "stream",
     "text": [
      "The answer for Question 7_b is:\n",
      "There is invertible. \n",
      "And it is \n",
      "[[ 0.4  1.  -1.8]\n",
      " [-0.2 -2.   3.4]\n",
      " [-0.2  0.   0.4]]\n"
     ]
    }
   ],
   "source": [
    "M_inverse(A)"
   ]
  },
  {
   "cell_type": "markdown",
   "id": "1d3173ab",
   "metadata": {},
   "source": [
    "The answer for Question 7_c"
   ]
  },
  {
   "cell_type": "markdown",
   "id": "6a0c0bef",
   "metadata": {},
   "source": [
    "Since A inverible matrix exist, We apply the inverse matrix to both sides to solve for x."
   ]
  },
  {
   "cell_type": "code",
   "execution_count": 34,
   "id": "eb162041",
   "metadata": {},
   "outputs": [],
   "source": [
    "x = np.linalg.inv(A) @ b"
   ]
  },
  {
   "cell_type": "code",
   "execution_count": 35,
   "id": "1f1e0737",
   "metadata": {},
   "outputs": [
    {
     "data": {
      "text/plain": [
       "array([[-2.6],\n",
       "       [ 9.8],\n",
       "       [ 0.8]])"
      ]
     },
     "execution_count": 35,
     "metadata": {},
     "output_type": "execute_result"
    }
   ],
   "source": [
    "x"
   ]
  },
  {
   "cell_type": "code",
   "execution_count": 37,
   "id": "039bfa61",
   "metadata": {},
   "outputs": [
    {
     "name": "stdout",
     "output_type": "stream",
     "text": [
      "The answer for question 7_c is :\n",
      " [[-2.6]\n",
      " [ 9.8]\n",
      " [ 0.8]]\n"
     ]
    }
   ],
   "source": [
    "print(f\"The answer for question 7_c is :\\n {x}\")"
   ]
  },
  {
   "cell_type": "markdown",
   "id": "097421d7",
   "metadata": {},
   "source": [
    "The answer for Quenstion 7_d"
   ]
  },
  {
   "cell_type": "code",
   "execution_count": 38,
   "id": "15381c4c",
   "metadata": {},
   "outputs": [],
   "source": [
    "eigenvalues, eigenvectors = np.linalg.eig(A)"
   ]
  },
  {
   "cell_type": "code",
   "execution_count": 39,
   "id": "0a07dce3",
   "metadata": {},
   "outputs": [
    {
     "data": {
      "text/plain": [
       "array([ 7.04804585,  1.44343285, -0.4914787 ])"
      ]
     },
     "execution_count": 39,
     "metadata": {},
     "output_type": "execute_result"
    }
   ],
   "source": [
    "eigenvalues"
   ]
  },
  {
   "cell_type": "code",
   "execution_count": 41,
   "id": "33fd6512",
   "metadata": {},
   "outputs": [
    {
     "data": {
      "text/plain": [
       "array([[ 0.58800699,  0.65315053,  0.40044041],\n",
       "       [ 0.66832949, -0.61183564, -0.91573217],\n",
       "       [ 0.45561329, -0.44615192,  0.03289476]])"
      ]
     },
     "execution_count": 41,
     "metadata": {},
     "output_type": "execute_result"
    }
   ],
   "source": [
    "eigenvectors"
   ]
  },
  {
   "cell_type": "code",
   "execution_count": 43,
   "id": "7047b57f",
   "metadata": {},
   "outputs": [
    {
     "name": "stdout",
     "output_type": "stream",
     "text": [
      "The answer for question 7_d is : \n",
      " eigenvalues: [ 7.04804585  1.44343285 -0.4914787 ] \n",
      " eigenvectors:\n",
      " [[ 0.58800699  0.65315053  0.40044041]\n",
      " [ 0.66832949 -0.61183564 -0.91573217]\n",
      " [ 0.45561329 -0.44615192  0.03289476]]\n"
     ]
    }
   ],
   "source": [
    "print(f\"The answer for question 7_d is : \\n eigenvalues: {eigenvalues} \\n eigenvectors:\\n {eigenvectors}\")"
   ]
  },
  {
   "cell_type": "markdown",
   "id": "2e084b8e",
   "metadata": {},
   "source": [
    "The answer for question 7_e"
   ]
  },
  {
   "cell_type": "code",
   "execution_count": 50,
   "id": "26005577",
   "metadata": {},
   "outputs": [
    {
     "data": {
      "text/plain": [
       "array([[ 4.14430024,  0.94277893, -0.19680793],\n",
       "       [ 4.7104169 , -0.88314365,  0.45006286],\n",
       "       [ 3.21118334, -0.64399034, -0.01616707]])"
      ]
     },
     "execution_count": 50,
     "metadata": {},
     "output_type": "execute_result"
    }
   ],
   "source": [
    "A @ eigenvectors"
   ]
  },
  {
   "cell_type": "code",
   "execution_count": 54,
   "id": "961637c9",
   "metadata": {},
   "outputs": [],
   "source": [
    "eigenvalues = np.diag(eigenvalues)"
   ]
  },
  {
   "cell_type": "code",
   "execution_count": 63,
   "id": "043ab979",
   "metadata": {},
   "outputs": [
    {
     "data": {
      "text/plain": [
       "array([[ 7.04804585,  0.        ,  0.        ],\n",
       "       [ 0.        ,  1.44343285,  0.        ],\n",
       "       [ 0.        ,  0.        , -0.4914787 ]])"
      ]
     },
     "execution_count": 63,
     "metadata": {},
     "output_type": "execute_result"
    }
   ],
   "source": [
    "eigenvalues"
   ]
  },
  {
   "cell_type": "code",
   "execution_count": 70,
   "id": "022fa00d",
   "metadata": {},
   "outputs": [
    {
     "data": {
      "text/plain": [
       "array([[ 4.14430024,  0.94277893, -0.19680793],\n",
       "       [ 4.7104169 , -0.88314365,  0.45006286],\n",
       "       [ 3.21118334, -0.64399034, -0.01616707]])"
      ]
     },
     "execution_count": 70,
     "metadata": {},
     "output_type": "execute_result"
    }
   ],
   "source": [
    "left = A @eigenvectors\n",
    "left"
   ]
  },
  {
   "cell_type": "code",
   "execution_count": 71,
   "id": "253c69ae",
   "metadata": {},
   "outputs": [
    {
     "data": {
      "text/plain": [
       "array([[ 4.14430024,  0.94277893, -0.19680793],\n",
       "       [ 4.7104169 , -0.88314365,  0.45006286],\n",
       "       [ 3.21118334, -0.64399034, -0.01616707]])"
      ]
     },
     "execution_count": 71,
     "metadata": {},
     "output_type": "execute_result"
    }
   ],
   "source": [
    "right = eigenvectors @ eigenvalues \n",
    "right"
   ]
  },
  {
   "cell_type": "code",
   "execution_count": 73,
   "id": "7a63d518",
   "metadata": {},
   "outputs": [
    {
     "data": {
      "text/plain": [
       "True"
      ]
     },
     "execution_count": 73,
     "metadata": {},
     "output_type": "execute_result"
    }
   ],
   "source": [
    "np.all(np.isclose(left,right))"
   ]
  },
  {
   "cell_type": "code",
   "execution_count": 78,
   "id": "fb9294cd",
   "metadata": {},
   "outputs": [
    {
     "name": "stdout",
     "output_type": "stream",
     "text": [
      "A * V : \n",
      " [[ 4.14430024  0.94277893 -0.19680793]\n",
      " [ 4.7104169  -0.88314365  0.45006286]\n",
      " [ 3.21118334 -0.64399034 -0.01616707]]\n",
      "V * Lambda: \n",
      " [[ 4.14430024  0.94277893 -0.19680793]\n",
      " [ 4.7104169  -0.88314365  0.45006286]\n",
      " [ 3.21118334 -0.64399034 -0.01616707]]\n",
      "The answer for question 7_e is : [A * V = V * Lambda] is True\n"
     ]
    }
   ],
   "source": [
    "print(\"A * V : \\n\", left)\n",
    "print(\"V * Lambda: \\n\",right)\n",
    "print(f\"The answer for question 7_e is : [A * V = V * Lambda] is {np.all(np.isclose(left,right))}\")"
   ]
  }
 ],
 "metadata": {
  "kernelspec": {
   "display_name": "Python 3 (ipykernel)",
   "language": "python",
   "name": "python3"
  },
  "language_info": {
   "codemirror_mode": {
    "name": "ipython",
    "version": 3
   },
   "file_extension": ".py",
   "mimetype": "text/x-python",
   "name": "python",
   "nbconvert_exporter": "python",
   "pygments_lexer": "ipython3",
   "version": "3.11.5"
  }
 },
 "nbformat": 4,
 "nbformat_minor": 5
}
