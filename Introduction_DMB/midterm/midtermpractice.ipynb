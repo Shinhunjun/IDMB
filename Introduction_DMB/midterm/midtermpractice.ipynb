{
 "cells": [
  {
   "cell_type": "code",
   "execution_count": 1,
   "id": "3f069c36",
   "metadata": {},
   "outputs": [],
   "source": [
    "import numpy as np"
   ]
  },
  {
   "cell_type": "code",
   "execution_count": 72,
   "id": "0f9edf69",
   "metadata": {},
   "outputs": [],
   "source": [
    "a = np.random.randint(1,101,100).reshape(10,10)"
   ]
  },
  {
   "cell_type": "code",
   "execution_count": 73,
   "id": "a1695509",
   "metadata": {},
   "outputs": [
    {
     "data": {
      "text/plain": [
       "array([[42, 37,  8, 40, 57, 92, 61,  6, 34,  6],\n",
       "       [91, 19, 85, 81, 68, 26,  5,  1, 32, 78],\n",
       "       [16, 66, 65, 33, 20,  5, 21, 57, 52, 57],\n",
       "       [ 4,  9, 67, 45, 56, 69, 28, 23, 20, 61],\n",
       "       [68, 94, 67, 12, 74, 38, 70, 93,  4, 80],\n",
       "       [89, 42, 41, 71, 61, 28, 98, 51, 90, 21],\n",
       "       [31, 65, 48, 37, 72, 65, 24, 36, 71,  6],\n",
       "       [50, 88, 64, 41, 68, 35, 97, 25, 66, 30],\n",
       "       [89, 73, 10, 30, 50, 69, 82, 76, 86, 77],\n",
       "       [38, 35, 75, 84, 85, 59, 35, 29, 49, 32]])"
      ]
     },
     "execution_count": 73,
     "metadata": {},
     "output_type": "execute_result"
    }
   ],
   "source": [
    "a"
   ]
  },
  {
   "cell_type": "code",
   "execution_count": 10,
   "id": "86bd8807",
   "metadata": {},
   "outputs": [
    {
     "data": {
      "text/plain": [
       "array([40.7, 52.9, 52.4, 53. , 54. ])"
      ]
     },
     "execution_count": 10,
     "metadata": {},
     "output_type": "execute_result"
    }
   ],
   "source": [
    "a[::2].mean(axis =1)"
   ]
  },
  {
   "cell_type": "code",
   "execution_count": 11,
   "id": "93911e6e",
   "metadata": {},
   "outputs": [
    {
     "data": {
      "text/plain": [
       "array([28.2       , 26.91913817, 25.69221672, 25.16127978, 23.92153841])"
      ]
     },
     "execution_count": 11,
     "metadata": {},
     "output_type": "execute_result"
    }
   ],
   "source": [
    "a[:,1::2].std(axis =0)"
   ]
  },
  {
   "cell_type": "code",
   "execution_count": 14,
   "id": "6396d2ed",
   "metadata": {},
   "outputs": [
    {
     "data": {
      "text/plain": [
       "4"
      ]
     },
     "execution_count": 14,
     "metadata": {},
     "output_type": "execute_result"
    }
   ],
   "source": [
    "np.sum(np.count_nonzero(a<5, axis =1)>0)"
   ]
  },
  {
   "cell_type": "code",
   "execution_count": 38,
   "id": "57e62878",
   "metadata": {},
   "outputs": [
    {
     "data": {
      "text/plain": [
       "2"
      ]
     },
     "execution_count": 38,
     "metadata": {},
     "output_type": "execute_result"
    }
   ],
   "source": [
    "sum(np.apply_along_axis(lambda x: np.any(x<5), axis =1 , arr = a))"
   ]
  },
  {
   "cell_type": "code",
   "execution_count": 34,
   "id": "a8f7869b",
   "metadata": {},
   "outputs": [
    {
     "data": {
      "text/plain": [
       "(array([0, 1, 3, 4, 5, 6, 7]),)"
      ]
     },
     "execution_count": 34,
     "metadata": {},
     "output_type": "execute_result"
    }
   ],
   "source": [
    "np.where(np.any(a>90, axis = 0))"
   ]
  },
  {
   "cell_type": "code",
   "execution_count": 37,
   "id": "aecba910",
   "metadata": {},
   "outputs": [
    {
     "data": {
      "text/plain": [
       "2"
      ]
     },
     "execution_count": 37,
     "metadata": {},
     "output_type": "execute_result"
    }
   ],
   "source": [
    "sum(np.any(a<5, axis=1))"
   ]
  },
  {
   "cell_type": "code",
   "execution_count": 39,
   "id": "b2ae270d",
   "metadata": {},
   "outputs": [],
   "source": [
    "value , count = np.unique(a, return_counts = True)"
   ]
  },
  {
   "cell_type": "code",
   "execution_count": 47,
   "id": "2d80dc78",
   "metadata": {},
   "outputs": [
    {
     "data": {
      "text/plain": [
       "array([  7,  20,  23,  29,  30,  31,  33,  35,  39,  41,  43,  53,  55,\n",
       "        62,  66,  72,  77,  78,  81,  87,  93,  96,  99, 100])"
      ]
     },
     "execution_count": 47,
     "metadata": {},
     "output_type": "execute_result"
    }
   ],
   "source": [
    "(value[count>1])"
   ]
  },
  {
   "cell_type": "code",
   "execution_count": 48,
   "id": "caa2b3d2",
   "metadata": {},
   "outputs": [
    {
     "data": {
      "text/plain": [
       "array([  2,   4,   6,   7,   9,  10,  13,  15,  16,  18,  19,  20,  21,\n",
       "        22,  23,  24,  26,  28,  29,  30,  31,  32,  33,  34,  35,  36,\n",
       "        37,  39,  41,  43,  46,  47,  48,  49,  50,  53,  55,  56,  57,\n",
       "        60,  61,  62,  64,  65,  66,  67,  69,  70,  71,  72,  73,  77,\n",
       "        78,  79,  80,  81,  82,  84,  85,  86,  87,  89,  90,  92,  93,\n",
       "        96,  99, 100])"
      ]
     },
     "execution_count": 48,
     "metadata": {},
     "output_type": "execute_result"
    }
   ],
   "source": [
    "np.unique(a)"
   ]
  },
  {
   "cell_type": "code",
   "execution_count": 50,
   "id": "b090519e",
   "metadata": {},
   "outputs": [
    {
     "data": {
      "text/plain": [
       "4"
      ]
     },
     "execution_count": 50,
     "metadata": {},
     "output_type": "execute_result"
    }
   ],
   "source": [
    "sum(np.apply_along_axis(lambda x: len(np.unique(x)) != len(x), axis =1 ,arr = a))"
   ]
  },
  {
   "cell_type": "code",
   "execution_count": 58,
   "id": "1f9fde2f",
   "metadata": {},
   "outputs": [
    {
     "ename": "ValueError",
     "evalue": "could not broadcast input array from shape (9,) into shape (10,)",
     "output_type": "error",
     "traceback": [
      "\u001b[0;31m---------------------------------------------------------------------------\u001b[0m",
      "\u001b[0;31mValueError\u001b[0m                                Traceback (most recent call last)",
      "Cell \u001b[0;32mIn[58], line 1\u001b[0m\n\u001b[0;32m----> 1\u001b[0m np\u001b[38;5;241m.\u001b[39many(\u001b[43mnp\u001b[49m\u001b[38;5;241;43m.\u001b[39;49m\u001b[43mapply_along_axis\u001b[49m\u001b[43m(\u001b[49m\u001b[38;5;28;43;01mlambda\u001b[39;49;00m\u001b[43m \u001b[49m\u001b[43mx\u001b[49m\u001b[43m:\u001b[49m\u001b[43m \u001b[49m\u001b[43mnp\u001b[49m\u001b[38;5;241;43m.\u001b[39;49m\u001b[43munique\u001b[49m\u001b[43m(\u001b[49m\u001b[43mx\u001b[49m\u001b[43m,\u001b[49m\u001b[43m \u001b[49m\u001b[43mreturn_counts\u001b[49m\u001b[43m \u001b[49m\u001b[38;5;241;43m=\u001b[39;49m\u001b[43m \u001b[49m\u001b[38;5;28;43;01mTrue\u001b[39;49;00m\u001b[43m)\u001b[49m\u001b[43m[\u001b[49m\u001b[38;5;241;43m1\u001b[39;49m\u001b[43m]\u001b[49m\u001b[38;5;241;43m>\u001b[39;49m\u001b[38;5;241;43m1\u001b[39;49m\u001b[43m \u001b[49m\u001b[43m,\u001b[49m\u001b[43m \u001b[49m\u001b[43maxis\u001b[49m\u001b[38;5;241;43m=\u001b[39;49m\u001b[38;5;241;43m1\u001b[39;49m\u001b[43m,\u001b[49m\u001b[43m \u001b[49m\u001b[43marr\u001b[49m\u001b[43m \u001b[49m\u001b[38;5;241;43m=\u001b[39;49m\u001b[43m \u001b[49m\u001b[43ma\u001b[49m\u001b[43m)\u001b[49m,axis \u001b[38;5;241m=\u001b[39m\u001b[38;5;241m1\u001b[39m)\n",
      "File \u001b[0;32m/opt/anaconda3/lib/python3.12/site-packages/numpy/lib/shape_base.py:402\u001b[0m, in \u001b[0;36mapply_along_axis\u001b[0;34m(func1d, axis, arr, *args, **kwargs)\u001b[0m\n\u001b[1;32m    400\u001b[0m buff[ind0] \u001b[38;5;241m=\u001b[39m res\n\u001b[1;32m    401\u001b[0m \u001b[38;5;28;01mfor\u001b[39;00m ind \u001b[38;5;129;01min\u001b[39;00m inds:\n\u001b[0;32m--> 402\u001b[0m     \u001b[43mbuff\u001b[49m\u001b[43m[\u001b[49m\u001b[43mind\u001b[49m\u001b[43m]\u001b[49m \u001b[38;5;241m=\u001b[39m asanyarray(func1d(inarr_view[ind], \u001b[38;5;241m*\u001b[39margs, \u001b[38;5;241m*\u001b[39m\u001b[38;5;241m*\u001b[39mkwargs))\n\u001b[1;32m    404\u001b[0m \u001b[38;5;28;01mif\u001b[39;00m \u001b[38;5;129;01mnot\u001b[39;00m \u001b[38;5;28misinstance\u001b[39m(res, matrix):\n\u001b[1;32m    405\u001b[0m     \u001b[38;5;66;03m# wrap the array, to preserve subclasses\u001b[39;00m\n\u001b[1;32m    406\u001b[0m     buff \u001b[38;5;241m=\u001b[39m res\u001b[38;5;241m.\u001b[39m__array_wrap__(buff)\n",
      "\u001b[0;31mValueError\u001b[0m: could not broadcast input array from shape (9,) into shape (10,)"
     ]
    }
   ],
   "source": [
    "np.any(np.apply_along_axis(lambda x: np.unique(x, return_counts = True)[1]>1 , axis=1, arr = a),axis =1)"
   ]
  },
  {
   "cell_type": "code",
   "execution_count": 66,
   "id": "4bd7e7ad",
   "metadata": {},
   "outputs": [],
   "source": [
    "def carr(n,m):\n",
    "    \n",
    "    arr = np.zeros(shape= (n,m))\n",
    "    arr[:,-1] = 1\n",
    "    arr[:,:1] = 1\n",
    "    arr[0,:] = 1\n",
    "    arr[ -1, :] = 1\n",
    "    \n",
    "    return arr"
   ]
  },
  {
   "cell_type": "code",
   "execution_count": 68,
   "id": "59c85373",
   "metadata": {},
   "outputs": [
    {
     "data": {
      "text/plain": [
       "array([[1., 1., 1., 1., 1.],\n",
       "       [1., 0., 0., 0., 1.],\n",
       "       [1., 0., 0., 0., 1.],\n",
       "       [1., 0., 0., 0., 1.],\n",
       "       [1., 1., 1., 1., 1.]])"
      ]
     },
     "execution_count": 68,
     "metadata": {},
     "output_type": "execute_result"
    }
   ],
   "source": [
    "carr(5,5)"
   ]
  },
  {
   "cell_type": "code",
   "execution_count": 69,
   "id": "0e08db3d",
   "metadata": {},
   "outputs": [],
   "source": [
    "def closest(arr, v):\n",
    "    a = np.array(arr)\n",
    "    b = abs(a-v)\n",
    "    idx = b.argmin()\n",
    "    \n",
    "    return arr[idx]"
   ]
  },
  {
   "cell_type": "code",
   "execution_count": 70,
   "id": "045800b9",
   "metadata": {},
   "outputs": [],
   "source": [
    "a = [10, 3, 7, 8 , 15] "
   ]
  },
  {
   "cell_type": "code",
   "execution_count": 71,
   "id": "2adf62f5",
   "metadata": {},
   "outputs": [
    {
     "data": {
      "text/plain": [
       "3"
      ]
     },
     "execution_count": 71,
     "metadata": {},
     "output_type": "execute_result"
    }
   ],
   "source": [
    "closest(a,4)"
   ]
  },
  {
   "cell_type": "code",
   "execution_count": 75,
   "id": "7b41a712",
   "metadata": {},
   "outputs": [
    {
     "data": {
      "text/plain": [
       "3"
      ]
     },
     "execution_count": 75,
     "metadata": {},
     "output_type": "execute_result"
    }
   ],
   "source": [
    "np.count_nonzero(np.any(a<5, axis=1))"
   ]
  },
  {
   "cell_type": "code",
   "execution_count": 79,
   "id": "a6734fcf",
   "metadata": {},
   "outputs": [
    {
     "data": {
      "text/plain": [
       "array([0, 1, 5, 6, 7])"
      ]
     },
     "execution_count": 79,
     "metadata": {},
     "output_type": "execute_result"
    }
   ],
   "source": [
    "np.where(np.any(a>90, axis = 0))[0]"
   ]
  },
  {
   "cell_type": "code",
   "execution_count": 80,
   "id": "68cae67c",
   "metadata": {},
   "outputs": [],
   "source": [
    "val, count = np.unique(a, return_counts = True)"
   ]
  },
  {
   "cell_type": "code",
   "execution_count": 81,
   "id": "e969a21d",
   "metadata": {},
   "outputs": [
    {
     "data": {
      "text/plain": [
       "array([ 4,  5,  6, 20, 21, 28, 30, 32, 35, 37, 38, 41, 42, 50, 57, 61, 65,\n",
       "       66, 67, 68, 69, 71, 85, 89])"
      ]
     },
     "execution_count": 81,
     "metadata": {},
     "output_type": "execute_result"
    }
   ],
   "source": [
    "val[count>1]"
   ]
  },
  {
   "cell_type": "code",
   "execution_count": 86,
   "id": "322b54a7",
   "metadata": {},
   "outputs": [],
   "source": [
    "\n",
    "a = np.array([[1, 2, 8], [3, 4, 1], [10, 5, 5]])"
   ]
  },
  {
   "cell_type": "code",
   "execution_count": 91,
   "id": "a8f65826",
   "metadata": {},
   "outputs": [
    {
     "data": {
      "text/plain": [
       "array([1, 3])"
      ]
     },
     "execution_count": 91,
     "metadata": {},
     "output_type": "execute_result"
    }
   ],
   "source": [
    "np.where(np.any(a>7, axis= 0))"
   ]
  },
  {
   "cell_type": "code",
   "execution_count": 92,
   "id": "be573f57",
   "metadata": {},
   "outputs": [],
   "source": [
    "a = np.array([[-1, 2, 1], [1, 4, 5]])"
   ]
  },
  {
   "cell_type": "code",
   "execution_count": 93,
   "id": "e0fbfcfc",
   "metadata": {},
   "outputs": [
    {
     "data": {
      "text/plain": [
       "array([[-1,  2,  1],\n",
       "       [ 1,  4,  5]])"
      ]
     },
     "execution_count": 93,
     "metadata": {},
     "output_type": "execute_result"
    }
   ],
   "source": [
    "a"
   ]
  },
  {
   "cell_type": "code",
   "execution_count": 94,
   "id": "f786fdfb",
   "metadata": {},
   "outputs": [],
   "source": [
    "idx = np.where(np.any(a<0, axis=1))[0]"
   ]
  },
  {
   "cell_type": "code",
   "execution_count": 95,
   "id": "25cbfde4",
   "metadata": {},
   "outputs": [
    {
     "data": {
      "text/plain": [
       "array([0])"
      ]
     },
     "execution_count": 95,
     "metadata": {},
     "output_type": "execute_result"
    }
   ],
   "source": [
    "idx"
   ]
  },
  {
   "cell_type": "code",
   "execution_count": 97,
   "id": "6e683412",
   "metadata": {},
   "outputs": [],
   "source": [
    "a[idx] =np.zeros(a.shape[1])"
   ]
  },
  {
   "cell_type": "code",
   "execution_count": 98,
   "id": "e1278b88",
   "metadata": {},
   "outputs": [
    {
     "data": {
      "text/plain": [
       "array([[0, 0, 0],\n",
       "       [1, 4, 5]])"
      ]
     },
     "execution_count": 98,
     "metadata": {},
     "output_type": "execute_result"
    }
   ],
   "source": [
    "a"
   ]
  },
  {
   "cell_type": "code",
   "execution_count": 99,
   "id": "8b7bac50",
   "metadata": {},
   "outputs": [
    {
     "data": {
      "text/plain": [
       "(2, 3)"
      ]
     },
     "execution_count": 99,
     "metadata": {},
     "output_type": "execute_result"
    }
   ],
   "source": [
    "a.shape"
   ]
  },
  {
   "cell_type": "code",
   "execution_count": 100,
   "id": "906e9ed6",
   "metadata": {},
   "outputs": [
    {
     "data": {
      "text/plain": [
       "3"
      ]
     },
     "execution_count": 100,
     "metadata": {},
     "output_type": "execute_result"
    }
   ],
   "source": [
    "a.shape[1]"
   ]
  },
  {
   "cell_type": "code",
   "execution_count": 101,
   "id": "e6e6e808",
   "metadata": {},
   "outputs": [
    {
     "data": {
      "text/plain": [
       "2"
      ]
     },
     "execution_count": 101,
     "metadata": {},
     "output_type": "execute_result"
    }
   ],
   "source": [
    "a.shape[0]"
   ]
  },
  {
   "cell_type": "code",
   "execution_count": 102,
   "id": "95bd4ad2",
   "metadata": {},
   "outputs": [
    {
     "data": {
      "text/plain": [
       "array([0., 0.])"
      ]
     },
     "execution_count": 102,
     "metadata": {},
     "output_type": "execute_result"
    }
   ],
   "source": [
    "np.zeros(2)"
   ]
  },
  {
   "cell_type": "code",
   "execution_count": 103,
   "id": "8b960c03",
   "metadata": {},
   "outputs": [
    {
     "data": {
      "text/plain": [
       "array([0., 0., 0.])"
      ]
     },
     "execution_count": 103,
     "metadata": {},
     "output_type": "execute_result"
    }
   ],
   "source": [
    "np.zeros(3)"
   ]
  },
  {
   "cell_type": "code",
   "execution_count": 107,
   "id": "4190dd16",
   "metadata": {},
   "outputs": [
    {
     "data": {
      "text/plain": [
       "array([[1, 2, 1],\n",
       "       [1, 4, 5]])"
      ]
     },
     "execution_count": 107,
     "metadata": {},
     "output_type": "execute_result"
    }
   ],
   "source": [
    "a = np.array([[1, 2, 1], [1, 4, 5]])\n",
    "a"
   ]
  },
  {
   "cell_type": "code",
   "execution_count": 111,
   "id": "a29bea7a",
   "metadata": {},
   "outputs": [],
   "source": [
    "b = np.sum(a, axis=1).reshape(2,1)"
   ]
  },
  {
   "cell_type": "code",
   "execution_count": 112,
   "id": "65dc5b2d",
   "metadata": {},
   "outputs": [
    {
     "data": {
      "text/plain": [
       "array([[0.25, 0.5 , 0.25],\n",
       "       [0.1 , 0.4 , 0.5 ]])"
      ]
     },
     "execution_count": 112,
     "metadata": {},
     "output_type": "execute_result"
    }
   ],
   "source": [
    "a/b"
   ]
  },
  {
   "cell_type": "code",
   "execution_count": 114,
   "id": "fc9acb67",
   "metadata": {},
   "outputs": [],
   "source": [
    "a = np.array([3, 2, 7, 11, 8, 5, 10, 14])"
   ]
  },
  {
   "cell_type": "code",
   "execution_count": 115,
   "id": "a4d3ad79",
   "metadata": {},
   "outputs": [
    {
     "data": {
      "text/plain": [
       "array([ 3,  2,  7, 11,  8,  5, 10])"
      ]
     },
     "execution_count": 115,
     "metadata": {},
     "output_type": "execute_result"
    }
   ],
   "source": [
    "b = a[:-1]\n",
    "b"
   ]
  },
  {
   "cell_type": "code",
   "execution_count": 117,
   "id": "5a0b65ea",
   "metadata": {},
   "outputs": [
    {
     "data": {
      "text/plain": [
       "array([ 2,  7, 11,  8,  5, 10, 14])"
      ]
     },
     "execution_count": 117,
     "metadata": {},
     "output_type": "execute_result"
    }
   ],
   "source": [
    "c= a[1:]\n",
    "c"
   ]
  },
  {
   "cell_type": "code",
   "execution_count": 130,
   "id": "26bf3b78",
   "metadata": {},
   "outputs": [
    {
     "data": {
      "text/plain": [
       "array([2, 8])"
      ]
     },
     "execution_count": 130,
     "metadata": {},
     "output_type": "execute_result"
    }
   ],
   "source": [
    "b[(b%2==0) & (c%2==1)]"
   ]
  },
  {
   "cell_type": "code",
   "execution_count": 129,
   "id": "b2b87429",
   "metadata": {},
   "outputs": [
    {
     "data": {
      "text/plain": [
       "array([2, 8])"
      ]
     },
     "execution_count": 129,
     "metadata": {},
     "output_type": "execute_result"
    }
   ],
   "source": [
    "A = np.array([3, 2, 7, 11, 8, 5, 10, 14])\n",
    "\n",
    "B = A[:-1]\n",
    "C = A[1:]\n",
    "B[(B % 2 == 0) & (C % 2 == 1)]"
   ]
  },
  {
   "cell_type": "code",
   "execution_count": 121,
   "id": "29ada970",
   "metadata": {},
   "outputs": [
    {
     "data": {
      "text/plain": [
       "array([False,  True,  True, False,  True, False, False])"
      ]
     },
     "execution_count": 121,
     "metadata": {},
     "output_type": "execute_result"
    }
   ],
   "source": [
    "c%2 ==1"
   ]
  },
  {
   "cell_type": "code",
   "execution_count": 132,
   "id": "437ce80f",
   "metadata": {},
   "outputs": [],
   "source": [
    "a = np.array([5, 8, 3, 1, 10, 9, 12])"
   ]
  },
  {
   "cell_type": "code",
   "execution_count": 133,
   "id": "c791f325",
   "metadata": {},
   "outputs": [],
   "source": [
    "b = a[1:-1]"
   ]
  },
  {
   "cell_type": "code",
   "execution_count": 134,
   "id": "9d12bef8",
   "metadata": {},
   "outputs": [
    {
     "data": {
      "text/plain": [
       "array([ 8,  3,  1, 10,  9])"
      ]
     },
     "execution_count": 134,
     "metadata": {},
     "output_type": "execute_result"
    }
   ],
   "source": [
    "b"
   ]
  },
  {
   "cell_type": "code",
   "execution_count": 135,
   "id": "34b09ae8",
   "metadata": {},
   "outputs": [
    {
     "data": {
      "text/plain": [
       "array([ True, False, False,  True, False])"
      ]
     },
     "execution_count": 135,
     "metadata": {},
     "output_type": "execute_result"
    }
   ],
   "source": [
    "b>a[:-2]"
   ]
  },
  {
   "cell_type": "code",
   "execution_count": 136,
   "id": "5a7f746a",
   "metadata": {},
   "outputs": [
    {
     "data": {
      "text/plain": [
       "array([ True,  True, False,  True, False])"
      ]
     },
     "execution_count": 136,
     "metadata": {},
     "output_type": "execute_result"
    }
   ],
   "source": [
    "b>a[2:]"
   ]
  },
  {
   "cell_type": "code",
   "execution_count": 138,
   "id": "34c36b33",
   "metadata": {},
   "outputs": [
    {
     "data": {
      "text/plain": [
       "array([ 8, 10])"
      ]
     },
     "execution_count": 138,
     "metadata": {},
     "output_type": "execute_result"
    }
   ],
   "source": [
    "b[(b>a[:-2])&(b>a[2:])]"
   ]
  },
  {
   "cell_type": "code",
   "execution_count": 141,
   "id": "7c8775ef",
   "metadata": {},
   "outputs": [],
   "source": [
    "a = np.array([[1, 2, 3], [1, 1, 1], [2, 8, 8]])"
   ]
  },
  {
   "cell_type": "code",
   "execution_count": 149,
   "id": "4c1a2412",
   "metadata": {},
   "outputs": [
    {
     "data": {
      "text/plain": [
       "2"
      ]
     },
     "execution_count": 149,
     "metadata": {},
     "output_type": "execute_result"
    }
   ],
   "source": [
    "np.count_nonzero(np.apply_along_axis(lambda x: len(np.unique(x))!= len(x), axis=1, arr=a))"
   ]
  },
  {
   "cell_type": "code",
   "execution_count": 150,
   "id": "6c70fa94",
   "metadata": {},
   "outputs": [
    {
     "data": {
      "text/plain": [
       "array([[1, 2, 3],\n",
       "       [1, 1, 1],\n",
       "       [2, 8, 8]])"
      ]
     },
     "execution_count": 150,
     "metadata": {},
     "output_type": "execute_result"
    }
   ],
   "source": [
    "np.sort(a,axis=1)"
   ]
  },
  {
   "cell_type": "code",
   "execution_count": 151,
   "id": "5980fafd",
   "metadata": {},
   "outputs": [
    {
     "data": {
      "text/plain": [
       "array([[1, 2, 3],\n",
       "       [1, 1, 1],\n",
       "       [2, 8, 8]])"
      ]
     },
     "execution_count": 151,
     "metadata": {},
     "output_type": "execute_result"
    }
   ],
   "source": [
    "a"
   ]
  },
  {
   "cell_type": "code",
   "execution_count": 152,
   "id": "5742c086",
   "metadata": {},
   "outputs": [
    {
     "data": {
      "text/plain": [
       "2"
      ]
     },
     "execution_count": 152,
     "metadata": {},
     "output_type": "execute_result"
    }
   ],
   "source": [
    "np.count_nonzero(np.any(a[:, 1:] == a[:,:-1], axis =1))"
   ]
  },
  {
   "cell_type": "code",
   "execution_count": 184,
   "id": "6417d1d0",
   "metadata": {},
   "outputs": [],
   "source": [
    "a = np.array([\n",
    "    [9, 12, 3, 7, 12],\n",
    "    [3, 10, 2, 6, 4],\n",
    "    [18, 24, 6, 17, 11],\n",
    "    [15, 21, 8, 13, 12],\n",
    "    [1, 18, 4, 22, 15]\n",
    "])"
   ]
  },
  {
   "cell_type": "code",
   "execution_count": 185,
   "id": "b3b438aa",
   "metadata": {},
   "outputs": [],
   "source": [
    "row_min = np.argmin(a, axis=1)\n",
    "col_max = np.argmax(a, axis=0)"
   ]
  },
  {
   "cell_type": "code",
   "execution_count": 186,
   "id": "39fdd625",
   "metadata": {},
   "outputs": [
    {
     "data": {
      "text/plain": [
       "array([2, 2, 3, 4, 4])"
      ]
     },
     "execution_count": 186,
     "metadata": {},
     "output_type": "execute_result"
    }
   ],
   "source": [
    "col_max"
   ]
  },
  {
   "cell_type": "code",
   "execution_count": 187,
   "id": "a7639624",
   "metadata": {},
   "outputs": [
    {
     "data": {
      "text/plain": [
       "array([2, 2, 2, 2, 0])"
      ]
     },
     "execution_count": 187,
     "metadata": {},
     "output_type": "execute_result"
    }
   ],
   "source": [
    "row_min"
   ]
  },
  {
   "cell_type": "code",
   "execution_count": 193,
   "id": "5036806e",
   "metadata": {},
   "outputs": [
    {
     "data": {
      "text/plain": [
       "array([3])"
      ]
     },
     "execution_count": 193,
     "metadata": {},
     "output_type": "execute_result"
    }
   ],
   "source": [
    "np.where(col_max[row_min] == np.arange(a.shape[0]))[0]"
   ]
  },
  {
   "cell_type": "code",
   "execution_count": 190,
   "id": "3b40f4c4",
   "metadata": {},
   "outputs": [
    {
     "data": {
      "text/plain": [
       "array([0, 1, 2, 3, 4])"
      ]
     },
     "execution_count": 190,
     "metadata": {},
     "output_type": "execute_result"
    }
   ],
   "source": [
    "np.arange(a.shape[0])"
   ]
  },
  {
   "cell_type": "code",
   "execution_count": 182,
   "id": "8171a70f",
   "metadata": {},
   "outputs": [
    {
     "data": {
      "text/plain": [
       "array([10])"
      ]
     },
     "execution_count": 182,
     "metadata": {},
     "output_type": "execute_result"
    }
   ],
   "source": [
    "row_max[row_max == col_min]"
   ]
  },
  {
   "cell_type": "code",
   "execution_count": 183,
   "id": "0e112672",
   "metadata": {},
   "outputs": [
    {
     "data": {
      "text/plain": [
       "array([10])"
      ]
     },
     "execution_count": 183,
     "metadata": {},
     "output_type": "execute_result"
    }
   ],
   "source": [
    "col_min[row_max == col_min]"
   ]
  },
  {
   "cell_type": "code",
   "execution_count": 194,
   "id": "d00dc814",
   "metadata": {},
   "outputs": [],
   "source": [
    "row = np.argmin(a, axis =1)\n",
    "col = np.argmax(a, axis =0)"
   ]
  },
  {
   "cell_type": "code",
   "execution_count": 207,
   "id": "3ca45815",
   "metadata": {},
   "outputs": [],
   "source": [
    "s_row = np.where(col[row] == np.arange(a.shape[0]))[0]"
   ]
  },
  {
   "cell_type": "code",
   "execution_count": 208,
   "id": "0324ed3d",
   "metadata": {},
   "outputs": [],
   "source": [
    "s_col=col[s_row]"
   ]
  },
  {
   "cell_type": "code",
   "execution_count": 226,
   "id": "2e86245e",
   "metadata": {},
   "outputs": [],
   "source": [
    "a = np.array([\n",
    "    [2, 16, 13, 3],\n",
    "    [11, 5, 8, 10],\n",
    "    [7, 9, 12, 6],\n",
    "    [14, 4, 1, 15]\n",
    "])"
   ]
  },
  {
   "cell_type": "code",
   "execution_count": 217,
   "id": "1f8d29a4",
   "metadata": {},
   "outputs": [
    {
     "data": {
      "text/plain": [
       "34"
      ]
     },
     "execution_count": 217,
     "metadata": {},
     "output_type": "execute_result"
    }
   ],
   "source": [
    "magic_num = a[0].sum()\n",
    "magic_num"
   ]
  },
  {
   "cell_type": "code",
   "execution_count": 216,
   "id": "48ac774d",
   "metadata": {},
   "outputs": [
    {
     "data": {
      "text/plain": [
       "True"
      ]
     },
     "execution_count": 216,
     "metadata": {},
     "output_type": "execute_result"
    }
   ],
   "source": [
    "np.all(np.sum(a,axis=1)==magic_num)"
   ]
  },
  {
   "cell_type": "code",
   "execution_count": 215,
   "id": "003d88cb",
   "metadata": {},
   "outputs": [
    {
     "data": {
      "text/plain": [
       "True"
      ]
     },
     "execution_count": 215,
     "metadata": {},
     "output_type": "execute_result"
    }
   ],
   "source": [
    "np.all(np.sum(a,axis=0)==magic_num)"
   ]
  },
  {
   "cell_type": "code",
   "execution_count": 218,
   "id": "aa7092d4",
   "metadata": {},
   "outputs": [
    {
     "data": {
      "text/plain": [
       "True"
      ]
     },
     "execution_count": 218,
     "metadata": {},
     "output_type": "execute_result"
    }
   ],
   "source": [
    "np.sum(np.diag(a)) == magic_num"
   ]
  },
  {
   "cell_type": "code",
   "execution_count": 220,
   "id": "847db976",
   "metadata": {},
   "outputs": [
    {
     "data": {
      "text/plain": [
       "True"
      ]
     },
     "execution_count": 220,
     "metadata": {},
     "output_type": "execute_result"
    }
   ],
   "source": [
    "np.sum(np.diag(np.fliplr(a))) == magic_num"
   ]
  },
  {
   "cell_type": "code",
   "execution_count": 229,
   "id": "c828aee3",
   "metadata": {},
   "outputs": [],
   "source": [
    "def magic(arr):\n",
    "    \n",
    "    magic_num = arr[0].sum()\n",
    "    \n",
    "    if (np.all(np.sum(arr,axis=1)==magic_num)) & (np.all(np.sum(arr,axis=0)==magic_num)) & (np.sum(np.diag(arr)) == magic_num) & (np.sum(np.diag(np.fliplr(arr))) == magic_num):\n",
    "        return True\n",
    "    else: \n",
    "        return False"
   ]
  },
  {
   "cell_type": "code",
   "execution_count": 230,
   "id": "b75863c2",
   "metadata": {},
   "outputs": [
    {
     "data": {
      "text/plain": [
       "True"
      ]
     },
     "execution_count": 230,
     "metadata": {},
     "output_type": "execute_result"
    }
   ],
   "source": [
    "magic(a)"
   ]
  },
  {
   "cell_type": "code",
   "execution_count": null,
   "id": "75da02b1",
   "metadata": {},
   "outputs": [],
   "source": []
  }
 ],
 "metadata": {
  "kernelspec": {
   "display_name": "My Environment",
   "language": "python",
   "name": "myenv"
  },
  "language_info": {
   "codemirror_mode": {
    "name": "ipython",
    "version": 3
   },
   "file_extension": ".py",
   "mimetype": "text/x-python",
   "name": "python",
   "nbconvert_exporter": "python",
   "pygments_lexer": "ipython3",
   "version": "3.12.4"
  }
 },
 "nbformat": 4,
 "nbformat_minor": 5
}
